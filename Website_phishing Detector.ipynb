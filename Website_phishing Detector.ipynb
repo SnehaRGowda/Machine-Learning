{
  "nbformat": 4,
  "nbformat_minor": 0,
  "metadata": {
    "colab": {
      "name": "website phishing.ipynb",
      "provenance": [],
      "authorship_tag": "ABX9TyPW2N5oVVw5L7RWYNJMlGdt",
      "include_colab_link": true
    },
    "kernelspec": {
      "name": "python3",
      "display_name": "Python 3"
    }
  },
  "cells": [
    {
      "cell_type": "markdown",
      "metadata": {
        "id": "view-in-github",
        "colab_type": "text"
      },
      "source": [
        "<a href=\"https://colab.research.google.com/github/SnehaRGowda/Machine-Learning/blob/master/Website_phishing%20Detector.ipynb\" target=\"_parent\"><img src=\"https://colab.research.google.com/assets/colab-badge.svg\" alt=\"Open In Colab\"/></a>"
      ]
    },
    {
      "cell_type": "markdown",
      "metadata": {
        "id": "Shxa1QoZkL13",
        "colab_type": "text"
      },
      "source": [
        "## ***Phishing Website Detector***"
      ]
    },
    {
      "cell_type": "markdown",
      "metadata": {
        "id": "mHnkX04Rknx3",
        "colab_type": "text"
      },
      "source": [
        "**What is Phishing?**\n",
        "\n",
        "Fraudsters send fake emails or set up fake web sites that mimic Yahoo!'s sign-in pages (or the sign-in pages of other trusted companies, such as eBay or PayPal) to trick you into disclosing your user name and password. This practice is sometimes referred to as \"phishing\" — a play on the word \"fishing\" — because the fraudster is fishing for your private account information."
      ]
    },
    {
      "cell_type": "markdown",
      "metadata": {
        "id": "I5nuS2DQl0M1",
        "colab_type": "text"
      },
      "source": [
        "**Website Phishing**\n",
        "\n",
        "Phishing websites are created to dupe unsuspecting users into thinking they are on a legitimate site. The criminals will spend a lot of time making the site seem as credible as possible and many sites will appear almost indistinguishable from the real thing."
      ]
    },
    {
      "cell_type": "markdown",
      "metadata": {
        "id": "95f-dFOcmJ3x",
        "colab_type": "text"
      },
      "source": [
        "**Background of Problem Statement :**\n",
        "\n",
        "The goal is to use one or more of the classification algorithms to train a model on the phishing website data set, which calculates the accuracy score on the test data. and to find which model gives the best accuracy score to predict if a website is a phishing website or not. "
      ]
    },
    {
      "cell_type": "markdown",
      "metadata": {
        "id": "7a39tsrsovdC",
        "colab_type": "text"
      },
      "source": [
        "**About the Dataset**\n",
        "\n",
        "Its a collection of website URLs for 11000+ websites. Each sample has 30 website parameters(features) and a class label(target) identifying it as a phishing website or not (1 or -1).\n",
        "\n",
        "Brief Description of the features in data set\n",
        "\n",
        "● UsingIP (categorical - signed numeric) : { -1,1 }\n",
        "● LongURL (categorical - signed numeric) : { 1,0,-1 }\n",
        "● ShortURL (categorical - signed numeric) : { 1,-1 }\n",
        "● Symbol@ (categorical - signed numeric) : { 1,-1 }\n",
        "● Redirecting// (categorical - signed numeric) : { -1,1 }\n",
        "● PrefixSuffix- (categorical - signed numeric) : { -1,1 }\n",
        "● SubDomains (categorical - signed numeric) : { -1,0,1 }\n",
        "● HTTPS (categorical - signed numeric) : { -1,1,0 }\n",
        "● DomainRegLen (categorical - signed numeric) : { -1,1 }\n",
        "● Favicon (categorical - signed numeric) : { 1,-1 }\n",
        "● NonStdPort (categorical - signed numeric) : { 1,-1 }\n",
        "● HTTPSDomainURL (categorical - signed numeric) : { -1,1 }\n",
        "● RequestURL (categorical - signed numeric) : { 1,-1 }\n",
        "● AnchorURL (categorical - signed numeric) : { -1,0,1 }"
      ]
    },
    {
      "cell_type": "markdown",
      "metadata": {
        "id": "rKIn2mXequf4",
        "colab_type": "text"
      },
      "source": [
        "**Lets start to train the** **model**"
      ]
    },
    {
      "cell_type": "code",
      "metadata": {
        "id": "evUFpt4QfVGz",
        "colab_type": "code",
        "colab": {}
      },
      "source": [
        "from mpl_toolkits.mplot3d import Axes3D\n",
        "from sklearn.preprocessing import StandardScaler\n",
        "import pandas as pd\n",
        "import  numpy as np\n",
        "import matplotlib.pyplot as plt\n",
        "from pylab import *\n",
        "from sklearn.model_selection import train_test_split\n",
        "from sklearn.tree import DecisionTreeClassifier\n",
        "from sklearn.ensemble import RandomForestClassifier"
      ],
      "execution_count": 0,
      "outputs": []
    },
    {
      "cell_type": "code",
      "metadata": {
        "id": "i78kcmbifkYm",
        "colab_type": "code",
        "colab": {}
      },
      "source": [
        "df = pd.read_csv(\"phishing.csv\")"
      ],
      "execution_count": 0,
      "outputs": []
    },
    {
      "cell_type": "markdown",
      "metadata": {
        "id": "ggLNwvqvG-df",
        "colab_type": "text"
      },
      "source": [
        "**Dataset**"
      ]
    },
    {
      "cell_type": "code",
      "metadata": {
        "id": "nnVuvVWnf0W3",
        "colab_type": "code",
        "outputId": "79f9b488-12d0-44b0-9874-344a3df598bf",
        "colab": {
          "base_uri": "https://localhost:8080/",
          "height": 424
        }
      },
      "source": [
        "df"
      ],
      "execution_count": 0,
      "outputs": [
        {
          "output_type": "execute_result",
          "data": {
            "text/html": [
              "<div>\n",
              "<style scoped>\n",
              "    .dataframe tbody tr th:only-of-type {\n",
              "        vertical-align: middle;\n",
              "    }\n",
              "\n",
              "    .dataframe tbody tr th {\n",
              "        vertical-align: top;\n",
              "    }\n",
              "\n",
              "    .dataframe thead th {\n",
              "        text-align: right;\n",
              "    }\n",
              "</style>\n",
              "<table border=\"1\" class=\"dataframe\">\n",
              "  <thead>\n",
              "    <tr style=\"text-align: right;\">\n",
              "      <th></th>\n",
              "      <th>Index</th>\n",
              "      <th>UsingIP</th>\n",
              "      <th>LongURL</th>\n",
              "      <th>ShortURL</th>\n",
              "      <th>Symbol@</th>\n",
              "      <th>Redirecting//</th>\n",
              "      <th>PrefixSuffix-</th>\n",
              "      <th>SubDomains</th>\n",
              "      <th>HTTPS</th>\n",
              "      <th>DomainRegLen</th>\n",
              "      <th>Favicon</th>\n",
              "      <th>NonStdPort</th>\n",
              "      <th>HTTPSDomainURL</th>\n",
              "      <th>RequestURL</th>\n",
              "      <th>AnchorURL</th>\n",
              "      <th>LinksInScriptTags</th>\n",
              "      <th>ServerFormHandler</th>\n",
              "      <th>InfoEmail</th>\n",
              "      <th>AbnormalURL</th>\n",
              "      <th>WebsiteForwarding</th>\n",
              "      <th>StatusBarCust</th>\n",
              "      <th>DisableRightClick</th>\n",
              "      <th>UsingPopupWindow</th>\n",
              "      <th>IframeRedirection</th>\n",
              "      <th>AgeofDomain</th>\n",
              "      <th>DNSRecording</th>\n",
              "      <th>WebsiteTraffic</th>\n",
              "      <th>PageRank</th>\n",
              "      <th>GoogleIndex</th>\n",
              "      <th>LinksPointingToPage</th>\n",
              "      <th>StatsReport</th>\n",
              "      <th>class</th>\n",
              "    </tr>\n",
              "  </thead>\n",
              "  <tbody>\n",
              "    <tr>\n",
              "      <th>0</th>\n",
              "      <td>0</td>\n",
              "      <td>1</td>\n",
              "      <td>1</td>\n",
              "      <td>1</td>\n",
              "      <td>1</td>\n",
              "      <td>1</td>\n",
              "      <td>-1</td>\n",
              "      <td>0</td>\n",
              "      <td>1</td>\n",
              "      <td>-1</td>\n",
              "      <td>1</td>\n",
              "      <td>1</td>\n",
              "      <td>-1</td>\n",
              "      <td>1</td>\n",
              "      <td>0</td>\n",
              "      <td>-1</td>\n",
              "      <td>-1</td>\n",
              "      <td>1</td>\n",
              "      <td>1</td>\n",
              "      <td>0</td>\n",
              "      <td>1</td>\n",
              "      <td>1</td>\n",
              "      <td>1</td>\n",
              "      <td>1</td>\n",
              "      <td>-1</td>\n",
              "      <td>-1</td>\n",
              "      <td>0</td>\n",
              "      <td>-1</td>\n",
              "      <td>1</td>\n",
              "      <td>1</td>\n",
              "      <td>1</td>\n",
              "      <td>-1</td>\n",
              "    </tr>\n",
              "    <tr>\n",
              "      <th>1</th>\n",
              "      <td>1</td>\n",
              "      <td>1</td>\n",
              "      <td>0</td>\n",
              "      <td>1</td>\n",
              "      <td>1</td>\n",
              "      <td>1</td>\n",
              "      <td>-1</td>\n",
              "      <td>-1</td>\n",
              "      <td>-1</td>\n",
              "      <td>-1</td>\n",
              "      <td>1</td>\n",
              "      <td>1</td>\n",
              "      <td>-1</td>\n",
              "      <td>1</td>\n",
              "      <td>0</td>\n",
              "      <td>-1</td>\n",
              "      <td>-1</td>\n",
              "      <td>-1</td>\n",
              "      <td>-1</td>\n",
              "      <td>0</td>\n",
              "      <td>1</td>\n",
              "      <td>1</td>\n",
              "      <td>1</td>\n",
              "      <td>1</td>\n",
              "      <td>1</td>\n",
              "      <td>-1</td>\n",
              "      <td>1</td>\n",
              "      <td>-1</td>\n",
              "      <td>1</td>\n",
              "      <td>0</td>\n",
              "      <td>-1</td>\n",
              "      <td>-1</td>\n",
              "    </tr>\n",
              "    <tr>\n",
              "      <th>2</th>\n",
              "      <td>2</td>\n",
              "      <td>1</td>\n",
              "      <td>0</td>\n",
              "      <td>1</td>\n",
              "      <td>1</td>\n",
              "      <td>1</td>\n",
              "      <td>-1</td>\n",
              "      <td>-1</td>\n",
              "      <td>-1</td>\n",
              "      <td>1</td>\n",
              "      <td>1</td>\n",
              "      <td>1</td>\n",
              "      <td>-1</td>\n",
              "      <td>-1</td>\n",
              "      <td>0</td>\n",
              "      <td>0</td>\n",
              "      <td>-1</td>\n",
              "      <td>1</td>\n",
              "      <td>1</td>\n",
              "      <td>0</td>\n",
              "      <td>1</td>\n",
              "      <td>1</td>\n",
              "      <td>1</td>\n",
              "      <td>1</td>\n",
              "      <td>-1</td>\n",
              "      <td>-1</td>\n",
              "      <td>1</td>\n",
              "      <td>-1</td>\n",
              "      <td>1</td>\n",
              "      <td>-1</td>\n",
              "      <td>1</td>\n",
              "      <td>-1</td>\n",
              "    </tr>\n",
              "    <tr>\n",
              "      <th>3</th>\n",
              "      <td>3</td>\n",
              "      <td>1</td>\n",
              "      <td>0</td>\n",
              "      <td>-1</td>\n",
              "      <td>1</td>\n",
              "      <td>1</td>\n",
              "      <td>-1</td>\n",
              "      <td>1</td>\n",
              "      <td>1</td>\n",
              "      <td>-1</td>\n",
              "      <td>1</td>\n",
              "      <td>1</td>\n",
              "      <td>1</td>\n",
              "      <td>1</td>\n",
              "      <td>0</td>\n",
              "      <td>0</td>\n",
              "      <td>-1</td>\n",
              "      <td>1</td>\n",
              "      <td>1</td>\n",
              "      <td>0</td>\n",
              "      <td>-1</td>\n",
              "      <td>1</td>\n",
              "      <td>-1</td>\n",
              "      <td>1</td>\n",
              "      <td>-1</td>\n",
              "      <td>-1</td>\n",
              "      <td>0</td>\n",
              "      <td>-1</td>\n",
              "      <td>1</td>\n",
              "      <td>1</td>\n",
              "      <td>1</td>\n",
              "      <td>1</td>\n",
              "    </tr>\n",
              "    <tr>\n",
              "      <th>4</th>\n",
              "      <td>4</td>\n",
              "      <td>-1</td>\n",
              "      <td>0</td>\n",
              "      <td>-1</td>\n",
              "      <td>1</td>\n",
              "      <td>-1</td>\n",
              "      <td>-1</td>\n",
              "      <td>1</td>\n",
              "      <td>1</td>\n",
              "      <td>-1</td>\n",
              "      <td>1</td>\n",
              "      <td>1</td>\n",
              "      <td>-1</td>\n",
              "      <td>1</td>\n",
              "      <td>0</td>\n",
              "      <td>0</td>\n",
              "      <td>-1</td>\n",
              "      <td>-1</td>\n",
              "      <td>-1</td>\n",
              "      <td>0</td>\n",
              "      <td>1</td>\n",
              "      <td>1</td>\n",
              "      <td>1</td>\n",
              "      <td>1</td>\n",
              "      <td>1</td>\n",
              "      <td>1</td>\n",
              "      <td>1</td>\n",
              "      <td>-1</td>\n",
              "      <td>1</td>\n",
              "      <td>-1</td>\n",
              "      <td>-1</td>\n",
              "      <td>1</td>\n",
              "    </tr>\n",
              "    <tr>\n",
              "      <th>...</th>\n",
              "      <td>...</td>\n",
              "      <td>...</td>\n",
              "      <td>...</td>\n",
              "      <td>...</td>\n",
              "      <td>...</td>\n",
              "      <td>...</td>\n",
              "      <td>...</td>\n",
              "      <td>...</td>\n",
              "      <td>...</td>\n",
              "      <td>...</td>\n",
              "      <td>...</td>\n",
              "      <td>...</td>\n",
              "      <td>...</td>\n",
              "      <td>...</td>\n",
              "      <td>...</td>\n",
              "      <td>...</td>\n",
              "      <td>...</td>\n",
              "      <td>...</td>\n",
              "      <td>...</td>\n",
              "      <td>...</td>\n",
              "      <td>...</td>\n",
              "      <td>...</td>\n",
              "      <td>...</td>\n",
              "      <td>...</td>\n",
              "      <td>...</td>\n",
              "      <td>...</td>\n",
              "      <td>...</td>\n",
              "      <td>...</td>\n",
              "      <td>...</td>\n",
              "      <td>...</td>\n",
              "      <td>...</td>\n",
              "      <td>...</td>\n",
              "    </tr>\n",
              "    <tr>\n",
              "      <th>11049</th>\n",
              "      <td>11049</td>\n",
              "      <td>1</td>\n",
              "      <td>-1</td>\n",
              "      <td>1</td>\n",
              "      <td>-1</td>\n",
              "      <td>1</td>\n",
              "      <td>1</td>\n",
              "      <td>1</td>\n",
              "      <td>1</td>\n",
              "      <td>-1</td>\n",
              "      <td>-1</td>\n",
              "      <td>-1</td>\n",
              "      <td>1</td>\n",
              "      <td>1</td>\n",
              "      <td>1</td>\n",
              "      <td>1</td>\n",
              "      <td>-1</td>\n",
              "      <td>-1</td>\n",
              "      <td>1</td>\n",
              "      <td>0</td>\n",
              "      <td>-1</td>\n",
              "      <td>-1</td>\n",
              "      <td>-1</td>\n",
              "      <td>-1</td>\n",
              "      <td>1</td>\n",
              "      <td>1</td>\n",
              "      <td>-1</td>\n",
              "      <td>-1</td>\n",
              "      <td>1</td>\n",
              "      <td>1</td>\n",
              "      <td>1</td>\n",
              "      <td>1</td>\n",
              "    </tr>\n",
              "    <tr>\n",
              "      <th>11050</th>\n",
              "      <td>11050</td>\n",
              "      <td>-1</td>\n",
              "      <td>1</td>\n",
              "      <td>1</td>\n",
              "      <td>-1</td>\n",
              "      <td>-1</td>\n",
              "      <td>-1</td>\n",
              "      <td>1</td>\n",
              "      <td>-1</td>\n",
              "      <td>-1</td>\n",
              "      <td>-1</td>\n",
              "      <td>-1</td>\n",
              "      <td>1</td>\n",
              "      <td>1</td>\n",
              "      <td>-1</td>\n",
              "      <td>-1</td>\n",
              "      <td>0</td>\n",
              "      <td>-1</td>\n",
              "      <td>-1</td>\n",
              "      <td>1</td>\n",
              "      <td>-1</td>\n",
              "      <td>1</td>\n",
              "      <td>-1</td>\n",
              "      <td>1</td>\n",
              "      <td>1</td>\n",
              "      <td>1</td>\n",
              "      <td>1</td>\n",
              "      <td>1</td>\n",
              "      <td>1</td>\n",
              "      <td>-1</td>\n",
              "      <td>1</td>\n",
              "      <td>-1</td>\n",
              "    </tr>\n",
              "    <tr>\n",
              "      <th>11051</th>\n",
              "      <td>11051</td>\n",
              "      <td>1</td>\n",
              "      <td>-1</td>\n",
              "      <td>1</td>\n",
              "      <td>1</td>\n",
              "      <td>1</td>\n",
              "      <td>-1</td>\n",
              "      <td>1</td>\n",
              "      <td>-1</td>\n",
              "      <td>-1</td>\n",
              "      <td>1</td>\n",
              "      <td>1</td>\n",
              "      <td>1</td>\n",
              "      <td>1</td>\n",
              "      <td>0</td>\n",
              "      <td>-1</td>\n",
              "      <td>-1</td>\n",
              "      <td>1</td>\n",
              "      <td>1</td>\n",
              "      <td>0</td>\n",
              "      <td>1</td>\n",
              "      <td>1</td>\n",
              "      <td>1</td>\n",
              "      <td>1</td>\n",
              "      <td>1</td>\n",
              "      <td>1</td>\n",
              "      <td>1</td>\n",
              "      <td>-1</td>\n",
              "      <td>1</td>\n",
              "      <td>0</td>\n",
              "      <td>1</td>\n",
              "      <td>-1</td>\n",
              "    </tr>\n",
              "    <tr>\n",
              "      <th>11052</th>\n",
              "      <td>11052</td>\n",
              "      <td>-1</td>\n",
              "      <td>-1</td>\n",
              "      <td>1</td>\n",
              "      <td>1</td>\n",
              "      <td>1</td>\n",
              "      <td>-1</td>\n",
              "      <td>-1</td>\n",
              "      <td>-1</td>\n",
              "      <td>1</td>\n",
              "      <td>-1</td>\n",
              "      <td>1</td>\n",
              "      <td>1</td>\n",
              "      <td>-1</td>\n",
              "      <td>-1</td>\n",
              "      <td>1</td>\n",
              "      <td>-1</td>\n",
              "      <td>1</td>\n",
              "      <td>1</td>\n",
              "      <td>0</td>\n",
              "      <td>-1</td>\n",
              "      <td>1</td>\n",
              "      <td>-1</td>\n",
              "      <td>1</td>\n",
              "      <td>1</td>\n",
              "      <td>1</td>\n",
              "      <td>1</td>\n",
              "      <td>-1</td>\n",
              "      <td>1</td>\n",
              "      <td>1</td>\n",
              "      <td>1</td>\n",
              "      <td>-1</td>\n",
              "    </tr>\n",
              "    <tr>\n",
              "      <th>11053</th>\n",
              "      <td>11053</td>\n",
              "      <td>-1</td>\n",
              "      <td>-1</td>\n",
              "      <td>1</td>\n",
              "      <td>1</td>\n",
              "      <td>1</td>\n",
              "      <td>-1</td>\n",
              "      <td>-1</td>\n",
              "      <td>-1</td>\n",
              "      <td>1</td>\n",
              "      <td>1</td>\n",
              "      <td>1</td>\n",
              "      <td>1</td>\n",
              "      <td>-1</td>\n",
              "      <td>-1</td>\n",
              "      <td>0</td>\n",
              "      <td>-1</td>\n",
              "      <td>1</td>\n",
              "      <td>1</td>\n",
              "      <td>0</td>\n",
              "      <td>1</td>\n",
              "      <td>1</td>\n",
              "      <td>1</td>\n",
              "      <td>1</td>\n",
              "      <td>-1</td>\n",
              "      <td>1</td>\n",
              "      <td>-1</td>\n",
              "      <td>-1</td>\n",
              "      <td>-1</td>\n",
              "      <td>1</td>\n",
              "      <td>-1</td>\n",
              "      <td>-1</td>\n",
              "    </tr>\n",
              "  </tbody>\n",
              "</table>\n",
              "<p>11054 rows × 32 columns</p>\n",
              "</div>"
            ],
            "text/plain": [
              "       Index  UsingIP  LongURL  ...  LinksPointingToPage  StatsReport  class\n",
              "0          0        1        1  ...                    1            1     -1\n",
              "1          1        1        0  ...                    0           -1     -1\n",
              "2          2        1        0  ...                   -1            1     -1\n",
              "3          3        1        0  ...                    1            1      1\n",
              "4          4       -1        0  ...                   -1           -1      1\n",
              "...      ...      ...      ...  ...                  ...          ...    ...\n",
              "11049  11049        1       -1  ...                    1            1      1\n",
              "11050  11050       -1        1  ...                   -1            1     -1\n",
              "11051  11051        1       -1  ...                    0            1     -1\n",
              "11052  11052       -1       -1  ...                    1            1     -1\n",
              "11053  11053       -1       -1  ...                    1           -1     -1\n",
              "\n",
              "[11054 rows x 32 columns]"
            ]
          },
          "metadata": {
            "tags": []
          },
          "execution_count": 4
        }
      ]
    },
    {
      "cell_type": "markdown",
      "metadata": {
        "id": "hAbflo_rGHy4",
        "colab_type": "text"
      },
      "source": [
        "Checking if there are any missing values in the data\n"
      ]
    },
    {
      "cell_type": "code",
      "metadata": {
        "id": "z98BXKjHFUtj",
        "colab_type": "code",
        "outputId": "759731bb-fca6-4125-cd93-85af7f6081cc",
        "colab": {
          "base_uri": "https://localhost:8080/",
          "height": 569
        }
      },
      "source": [
        "print(df.isnull().any())"
      ],
      "execution_count": 0,
      "outputs": [
        {
          "output_type": "stream",
          "text": [
            "Index                  False\n",
            "UsingIP                False\n",
            "LongURL                False\n",
            "ShortURL               False\n",
            "Symbol@                False\n",
            "Redirecting//          False\n",
            "PrefixSuffix-          False\n",
            "SubDomains             False\n",
            "HTTPS                  False\n",
            "DomainRegLen           False\n",
            "Favicon                False\n",
            "NonStdPort             False\n",
            "HTTPSDomainURL         False\n",
            "RequestURL             False\n",
            "AnchorURL              False\n",
            "LinksInScriptTags      False\n",
            "ServerFormHandler      False\n",
            "InfoEmail              False\n",
            "AbnormalURL            False\n",
            "WebsiteForwarding      False\n",
            "StatusBarCust          False\n",
            "DisableRightClick      False\n",
            "UsingPopupWindow       False\n",
            "IframeRedirection      False\n",
            "AgeofDomain            False\n",
            "DNSRecording           False\n",
            "WebsiteTraffic         False\n",
            "PageRank               False\n",
            "GoogleIndex            False\n",
            "LinksPointingToPage    False\n",
            "StatsReport            False\n",
            "class                  False\n",
            "dtype: bool\n"
          ],
          "name": "stdout"
        }
      ]
    },
    {
      "cell_type": "markdown",
      "metadata": {
        "id": "Az6yXIyDGWX6",
        "colab_type": "text"
      },
      "source": [
        "**Correlation Matrix**\n"
      ]
    },
    {
      "cell_type": "code",
      "metadata": {
        "id": "IqSd-weUf2OS",
        "colab_type": "code",
        "cellView": "form",
        "colab": {}
      },
      "source": [
        "#@title\n",
        "def plotCorrelationMatrix(df, graphWidth):\n",
        "    filename = df\n",
        "    df = df.dropna('columns') # drop columns with NaN\n",
        "    df = df[[col for col in df if df[col].nunique() > 1]] # keep columns where there are more than 1 unique values\n",
        "    if df.shape[1] < 2:\n",
        "        print(f'No correlation plots shown: The number of non-NaN or constant columns ({df.shape[1]}) is less than 2')\n",
        "        return\n",
        "    corr = df.corr()\n",
        "    plt.figure(num=None, figsize=(graphWidth, graphWidth), dpi=80, facecolor='w', edgecolor='k')\n",
        "    corrMat = plt.matshow(corr, fignum = 1)\n",
        "    plt.xticks(range(len(corr.columns)), corr.columns, rotation=90)\n",
        "    plt.yticks(range(len(corr.columns)), corr.columns)\n",
        "    plt.gca().xaxis.tick_bottom()\n",
        "    plt.title(\"Correlation Matrix\")\n",
        "    plt.colorbar(corrMat)\n",
        "    plt.show()"
      ],
      "execution_count": 0,
      "outputs": []
    },
    {
      "cell_type": "code",
      "metadata": {
        "id": "qeu5vVUwMEgL",
        "colab_type": "code",
        "outputId": "10660006-6663-4e7c-caf1-871337adfe53",
        "colab": {
          "base_uri": "https://localhost:8080/",
          "height": 603
        }
      },
      "source": [
        "plotCorrelationMatrix(df, 8)"
      ],
      "execution_count": 0,
      "outputs": [
        {
          "output_type": "display_data",
          "data": {
            "image/png": "[encoded data removed]",
            "text/plain": [
              "<Figure size 640x640 with 2 Axes>"
            ]
          },
          "metadata": {
            "tags": []
          }
        }
      ]
    },
    {
      "cell_type": "markdown",
      "metadata": {
        "id": "bC8-SUmfGrHO",
        "colab_type": "text"
      },
      "source": [
        "**Distribution graphs (bar graph) of sampled columns:**"
      ]
    },
    {
      "cell_type": "code",
      "metadata": {
        "id": "d8xEWgFhMLKQ",
        "colab_type": "code",
        "cellView": "form",
        "colab": {}
      },
      "source": [
        "#@title\n",
        "def plotPerColumnDistribution(df, nGraphShown, nGraphPerRow):\n",
        "    nunique = df.nunique()\n",
        "    df = df[[col for col in df if nunique[col] > 1 and nunique[col] < 50]] # For displaying purposes, pick columns that have between 1 and 50 unique values\n",
        "    nRow, nCol = df.shape\n",
        "    columnNames = list(df)\n",
        "    nGraphRow = (nCol + nGraphPerRow - 1) / nGraphPerRow\n",
        "    plt.figure(num = None, figsize = (4 * nGraphPerRow, 6 * nGraphRow), dpi = 50, facecolor = 'w', edgecolor = 'k')\n",
        "    for i in range(min(nCol, nGraphShown)):\n",
        "        plt.subplot(nGraphRow, nGraphPerRow, i + 1)\n",
        "        columnDf = df.iloc[:, i]\n",
        "        if (not np.issubdtype(type(columnDf.iloc[0]), np.number)):\n",
        "            valueCounts = columnDf.value_counts()\n",
        "            valueCounts.plot.bar()\n",
        "        else:\n",
        "            columnDf.hist()\n",
        "        plt.ylabel('counts')\n",
        "        plt.xticks(rotation = 90)\n",
        "        plt.title(f'{columnNames[i]} (column {i})')\n",
        "    plt.tight_layout(pad = 1.0, w_pad = 1.0, h_pad = 1.0)\n",
        "    plt.show()"
      ],
      "execution_count": 0,
      "outputs": []
    },
    {
      "cell_type": "code",
      "metadata": {
        "id": "TSsuRfrENJcz",
        "colab_type": "code",
        "outputId": "8b29a4bf-a407-41ca-bb29-47ecc48e9bb3",
        "colab": {
          "base_uri": "https://localhost:8080/",
          "height": 624
        }
      },
      "source": [
        "plotPerColumnDistribution(df, 10, 5)"
      ],
      "execution_count": 0,
      "outputs": [
        {
          "output_type": "display_data",
          "data": {
            "image/png": "[encoded data removed]",
            "text/plain": [
              "<Figure size 1000x2100 with 10 Axes>"
            ]
          },
          "metadata": {
            "tags": []
          }
        }
      ]
    },
    {
      "cell_type": "code",
      "metadata": {
        "id": "CbrpcrjlNNrT",
        "colab_type": "code",
        "outputId": "fd6d3bff-7960-422c-9751-49093fc15edb",
        "colab": {
          "base_uri": "https://localhost:8080/",
          "height": 569
        }
      },
      "source": [
        "abs(df.corr('pearson')['class']).sort_values()"
      ],
      "execution_count": 0,
      "outputs": [
        {
          "output_type": "execute_result",
          "data": {
            "text/plain": [
              "UsingPopupWindow       0.000136\n",
              "Favicon                0.000231\n",
              "Index                  0.000802\n",
              "IframeRedirection      0.003362\n",
              "DisableRightClick      0.012675\n",
              "InfoEmail              0.018039\n",
              "WebsiteForwarding      0.020151\n",
              "LinksPointingToPage    0.032694\n",
              "NonStdPort             0.036461\n",
              "Redirecting//          0.038885\n",
              "HTTPSDomainURL         0.040096\n",
              "StatusBarCust          0.041878\n",
              "Symbol@                0.052994\n",
              "LongURL                0.057661\n",
              "AbnormalURL            0.060751\n",
              "ShortURL               0.067931\n",
              "DNSRecording           0.075579\n",
              "StatsReport            0.079632\n",
              "UsingIP                0.094033\n",
              "PageRank               0.104593\n",
              "AgeofDomain            0.121402\n",
              "GoogleIndex            0.129000\n",
              "ServerFormHandler      0.221380\n",
              "DomainRegLen           0.225879\n",
              "LinksInScriptTags      0.248415\n",
              "RequestURL             0.253478\n",
              "SubDomains             0.298231\n",
              "WebsiteTraffic         0.346003\n",
              "PrefixSuffix-          0.348588\n",
              "AnchorURL              0.692895\n",
              "HTTPS                  0.714704\n",
              "class                  1.000000\n",
              "Name: class, dtype: float64"
            ]
          },
          "metadata": {
            "tags": []
          },
          "execution_count": 11
        }
      ]
    },
    {
      "cell_type": "markdown",
      "metadata": {
        "id": "Mzg0r6zbQVlY",
        "colab_type": "text"
      },
      "source": [
        "**Lets apply Logistic Regression and check its** **accuracy**"
      ]
    },
    {
      "cell_type": "code",
      "metadata": {
        "id": "MrIWeTdwHYlD",
        "colab_type": "code",
        "outputId": "aa02d305-8c5f-4481-a5ef-806798b8947d",
        "colab": {
          "base_uri": "https://localhost:8080/",
          "height": 216
        }
      },
      "source": [
        "features= df.drop(columns='class')\n",
        "features.head()"
      ],
      "execution_count": 0,
      "outputs": [
        {
          "output_type": "execute_result",
          "data": {
            "text/html": [
              "<div>\n",
              "<style scoped>\n",
              "    .dataframe tbody tr th:only-of-type {\n",
              "        vertical-align: middle;\n",
              "    }\n",
              "\n",
              "    .dataframe tbody tr th {\n",
              "        vertical-align: top;\n",
              "    }\n",
              "\n",
              "    .dataframe thead th {\n",
              "        text-align: right;\n",
              "    }\n",
              "</style>\n",
              "<table border=\"1\" class=\"dataframe\">\n",
              "  <thead>\n",
              "    <tr style=\"text-align: right;\">\n",
              "      <th></th>\n",
              "      <th>Index</th>\n",
              "      <th>UsingIP</th>\n",
              "      <th>LongURL</th>\n",
              "      <th>ShortURL</th>\n",
              "      <th>Symbol@</th>\n",
              "      <th>Redirecting//</th>\n",
              "      <th>PrefixSuffix-</th>\n",
              "      <th>SubDomains</th>\n",
              "      <th>HTTPS</th>\n",
              "      <th>DomainRegLen</th>\n",
              "      <th>Favicon</th>\n",
              "      <th>NonStdPort</th>\n",
              "      <th>HTTPSDomainURL</th>\n",
              "      <th>RequestURL</th>\n",
              "      <th>AnchorURL</th>\n",
              "      <th>LinksInScriptTags</th>\n",
              "      <th>ServerFormHandler</th>\n",
              "      <th>InfoEmail</th>\n",
              "      <th>AbnormalURL</th>\n",
              "      <th>WebsiteForwarding</th>\n",
              "      <th>StatusBarCust</th>\n",
              "      <th>DisableRightClick</th>\n",
              "      <th>UsingPopupWindow</th>\n",
              "      <th>IframeRedirection</th>\n",
              "      <th>AgeofDomain</th>\n",
              "      <th>DNSRecording</th>\n",
              "      <th>WebsiteTraffic</th>\n",
              "      <th>PageRank</th>\n",
              "      <th>GoogleIndex</th>\n",
              "      <th>LinksPointingToPage</th>\n",
              "      <th>StatsReport</th>\n",
              "    </tr>\n",
              "  </thead>\n",
              "  <tbody>\n",
              "    <tr>\n",
              "      <th>0</th>\n",
              "      <td>0</td>\n",
              "      <td>1</td>\n",
              "      <td>1</td>\n",
              "      <td>1</td>\n",
              "      <td>1</td>\n",
              "      <td>1</td>\n",
              "      <td>-1</td>\n",
              "      <td>0</td>\n",
              "      <td>1</td>\n",
              "      <td>-1</td>\n",
              "      <td>1</td>\n",
              "      <td>1</td>\n",
              "      <td>-1</td>\n",
              "      <td>1</td>\n",
              "      <td>0</td>\n",
              "      <td>-1</td>\n",
              "      <td>-1</td>\n",
              "      <td>1</td>\n",
              "      <td>1</td>\n",
              "      <td>0</td>\n",
              "      <td>1</td>\n",
              "      <td>1</td>\n",
              "      <td>1</td>\n",
              "      <td>1</td>\n",
              "      <td>-1</td>\n",
              "      <td>-1</td>\n",
              "      <td>0</td>\n",
              "      <td>-1</td>\n",
              "      <td>1</td>\n",
              "      <td>1</td>\n",
              "      <td>1</td>\n",
              "    </tr>\n",
              "    <tr>\n",
              "      <th>1</th>\n",
              "      <td>1</td>\n",
              "      <td>1</td>\n",
              "      <td>0</td>\n",
              "      <td>1</td>\n",
              "      <td>1</td>\n",
              "      <td>1</td>\n",
              "      <td>-1</td>\n",
              "      <td>-1</td>\n",
              "      <td>-1</td>\n",
              "      <td>-1</td>\n",
              "      <td>1</td>\n",
              "      <td>1</td>\n",
              "      <td>-1</td>\n",
              "      <td>1</td>\n",
              "      <td>0</td>\n",
              "      <td>-1</td>\n",
              "      <td>-1</td>\n",
              "      <td>-1</td>\n",
              "      <td>-1</td>\n",
              "      <td>0</td>\n",
              "      <td>1</td>\n",
              "      <td>1</td>\n",
              "      <td>1</td>\n",
              "      <td>1</td>\n",
              "      <td>1</td>\n",
              "      <td>-1</td>\n",
              "      <td>1</td>\n",
              "      <td>-1</td>\n",
              "      <td>1</td>\n",
              "      <td>0</td>\n",
              "      <td>-1</td>\n",
              "    </tr>\n",
              "    <tr>\n",
              "      <th>2</th>\n",
              "      <td>2</td>\n",
              "      <td>1</td>\n",
              "      <td>0</td>\n",
              "      <td>1</td>\n",
              "      <td>1</td>\n",
              "      <td>1</td>\n",
              "      <td>-1</td>\n",
              "      <td>-1</td>\n",
              "      <td>-1</td>\n",
              "      <td>1</td>\n",
              "      <td>1</td>\n",
              "      <td>1</td>\n",
              "      <td>-1</td>\n",
              "      <td>-1</td>\n",
              "      <td>0</td>\n",
              "      <td>0</td>\n",
              "      <td>-1</td>\n",
              "      <td>1</td>\n",
              "      <td>1</td>\n",
              "      <td>0</td>\n",
              "      <td>1</td>\n",
              "      <td>1</td>\n",
              "      <td>1</td>\n",
              "      <td>1</td>\n",
              "      <td>-1</td>\n",
              "      <td>-1</td>\n",
              "      <td>1</td>\n",
              "      <td>-1</td>\n",
              "      <td>1</td>\n",
              "      <td>-1</td>\n",
              "      <td>1</td>\n",
              "    </tr>\n",
              "    <tr>\n",
              "      <th>3</th>\n",
              "      <td>3</td>\n",
              "      <td>1</td>\n",
              "      <td>0</td>\n",
              "      <td>-1</td>\n",
              "      <td>1</td>\n",
              "      <td>1</td>\n",
              "      <td>-1</td>\n",
              "      <td>1</td>\n",
              "      <td>1</td>\n",
              "      <td>-1</td>\n",
              "      <td>1</td>\n",
              "      <td>1</td>\n",
              "      <td>1</td>\n",
              "      <td>1</td>\n",
              "      <td>0</td>\n",
              "      <td>0</td>\n",
              "      <td>-1</td>\n",
              "      <td>1</td>\n",
              "      <td>1</td>\n",
              "      <td>0</td>\n",
              "      <td>-1</td>\n",
              "      <td>1</td>\n",
              "      <td>-1</td>\n",
              "      <td>1</td>\n",
              "      <td>-1</td>\n",
              "      <td>-1</td>\n",
              "      <td>0</td>\n",
              "      <td>-1</td>\n",
              "      <td>1</td>\n",
              "      <td>1</td>\n",
              "      <td>1</td>\n",
              "    </tr>\n",
              "    <tr>\n",
              "      <th>4</th>\n",
              "      <td>4</td>\n",
              "      <td>-1</td>\n",
              "      <td>0</td>\n",
              "      <td>-1</td>\n",
              "      <td>1</td>\n",
              "      <td>-1</td>\n",
              "      <td>-1</td>\n",
              "      <td>1</td>\n",
              "      <td>1</td>\n",
              "      <td>-1</td>\n",
              "      <td>1</td>\n",
              "      <td>1</td>\n",
              "      <td>-1</td>\n",
              "      <td>1</td>\n",
              "      <td>0</td>\n",
              "      <td>0</td>\n",
              "      <td>-1</td>\n",
              "      <td>-1</td>\n",
              "      <td>-1</td>\n",
              "      <td>0</td>\n",
              "      <td>1</td>\n",
              "      <td>1</td>\n",
              "      <td>1</td>\n",
              "      <td>1</td>\n",
              "      <td>1</td>\n",
              "      <td>1</td>\n",
              "      <td>1</td>\n",
              "      <td>-1</td>\n",
              "      <td>1</td>\n",
              "      <td>-1</td>\n",
              "      <td>-1</td>\n",
              "    </tr>\n",
              "  </tbody>\n",
              "</table>\n",
              "</div>"
            ],
            "text/plain": [
              "   Index  UsingIP  LongURL  ...  GoogleIndex  LinksPointingToPage  StatsReport\n",
              "0      0        1        1  ...            1                    1            1\n",
              "1      1        1        0  ...            1                    0           -1\n",
              "2      2        1        0  ...            1                   -1            1\n",
              "3      3        1        0  ...            1                    1            1\n",
              "4      4       -1        0  ...            1                   -1           -1\n",
              "\n",
              "[5 rows x 31 columns]"
            ]
          },
          "metadata": {
            "tags": []
          },
          "execution_count": 12
        }
      ]
    },
    {
      "cell_type": "code",
      "metadata": {
        "id": "hnpnam5-Ktv9",
        "colab_type": "code",
        "colab": {}
      },
      "source": [
        "target=df['class']\n",
        "target=pd.DataFrame(target)\n",
        "df.rename(columns = {'class':'target'}, inplace = True) "
      ],
      "execution_count": 0,
      "outputs": []
    },
    {
      "cell_type": "code",
      "metadata": {
        "id": "LrgkIlU-Kyrj",
        "colab_type": "code",
        "colab": {}
      },
      "source": [
        "data=pd.concat([features,target],axis=1)"
      ],
      "execution_count": 0,
      "outputs": []
    },
    {
      "cell_type": "markdown",
      "metadata": {
        "id": "NPQlCnC1ffd5",
        "colab_type": "text"
      },
      "source": [
        "**I have taken two features HTTPS and AnchorURL as they are most correlated to the target, and also, these two features acts as an important parameter in a website url.**"
      ]
    },
    {
      "cell_type": "code",
      "metadata": {
        "id": "omgq63HTK29y",
        "colab_type": "code",
        "colab": {}
      },
      "source": [
        "df1 = df[['HTTPS','AnchorURL','target']]"
      ],
      "execution_count": 0,
      "outputs": []
    },
    {
      "cell_type": "markdown",
      "metadata": {
        "id": "u0vgglcSfyfD",
        "colab_type": "text"
      },
      "source": [
        "Scaler Transformation"
      ]
    },
    {
      "cell_type": "code",
      "metadata": {
        "id": "KVU_qjmYLBKo",
        "colab_type": "code",
        "colab": {}
      },
      "source": [
        "from sklearn.preprocessing import MinMaxScaler\n",
        "\n",
        "scaler = MinMaxScaler()\n",
        "df1_scaled = scaler.fit_transform(df1)"
      ],
      "execution_count": 0,
      "outputs": []
    },
    {
      "cell_type": "code",
      "metadata": {
        "id": "6wzYDZ11LTnB",
        "colab_type": "code",
        "colab": {}
      },
      "source": [
        "x1 = (df1_scaled[:,0])   \n",
        "x2 = (df1_scaled[:,1])\n",
        "y = (df1_scaled[:,2])"
      ],
      "execution_count": 0,
      "outputs": []
    },
    {
      "cell_type": "markdown",
      "metadata": {
        "id": "YU9O1QISQ3cd",
        "colab_type": "text"
      },
      "source": [
        "**Normalizing the data**"
      ]
    },
    {
      "cell_type": "code",
      "metadata": {
        "id": "ojxzZybsLYRG",
        "colab_type": "code",
        "colab": {}
      },
      "source": [
        "x1 = (x1 - x1.min()) / (x1.max() - x1.min())\n",
        "x2 = (x2 - x2.min()) / (x2.max() - x2.min())\n",
        "y = (y - y.min()) / (y.max() - y.min())"
      ],
      "execution_count": 0,
      "outputs": []
    },
    {
      "cell_type": "markdown",
      "metadata": {
        "id": "zXufsmfLRJES",
        "colab_type": "text"
      },
      "source": [
        "**Split the data into respective test and train**"
      ]
    },
    {
      "cell_type": "code",
      "metadata": {
        "id": "nLmIca62LbxQ",
        "colab_type": "code",
        "colab": {}
      },
      "source": [
        "x1_train, x1_test,x2_train,x2_test, y_train, y_test = train_test_split(x1,x2,y,test_size=0.2)"
      ],
      "execution_count": 0,
      "outputs": []
    },
    {
      "cell_type": "markdown",
      "metadata": {
        "id": "yCOD12maRLvk",
        "colab_type": "text"
      },
      "source": [
        "**Defining the Model**"
      ]
    },
    {
      "cell_type": "code",
      "metadata": {
        "id": "PbVoyArPLfwI",
        "colab_type": "code",
        "colab": {}
      },
      "source": [
        "def sigmoid(z):             \n",
        "  return 1/(1+np.exp(-z))"
      ],
      "execution_count": 0,
      "outputs": []
    },
    {
      "cell_type": "code",
      "metadata": {
        "id": "QX1PTFYhLjNT",
        "colab_type": "code",
        "colab": {}
      },
      "source": [
        "def error(a,b,c,x1,x2,y):\n",
        "  error = 0\n",
        "  N=len(y)\n",
        "  for i in range(N):\n",
        "    f= (a*x1[i]+b*x2[i]+c)\n",
        "    error+= -y[i]*np.log(sigmoid(f))-(1-y[i])*np.log(1-sigmoid(f))\n",
        "  return (1/N)*error"
      ],
      "execution_count": 0,
      "outputs": []
    },
    {
      "cell_type": "code",
      "metadata": {
        "id": "ONa41Er6LmSW",
        "colab_type": "code",
        "colab": {}
      },
      "source": [
        "def step_gradient(a,b,c,x1,x2,y,learning_rate,iterations):\n",
        "    grad_a=0\n",
        "    grad_b=0\n",
        "    grad_c=0\n",
        "    m=len(y)\n",
        "    for i in range(m):\n",
        "        f= (a*x1[i]+b*x2[i]+c)\n",
        "        grad_a += (sigmoid(f)-y[i])*x1[i]\n",
        "        grad_b += (sigmoid(f)-y[i])*x2[i]\n",
        "        grad_c += (sigmoid(f)-y[i])\n",
        "         \n",
        "    a=a-(grad_a*learning_rate)\n",
        "    b=b-(grad_b*learning_rate)\n",
        "    c=c-(grad_c*learning_rate)\n",
        "   \n",
        "    return a,b,c"
      ],
      "execution_count": 0,
      "outputs": []
    },
    {
      "cell_type": "code",
      "metadata": {
        "id": "BjLT_FrtLqac",
        "colab_type": "code",
        "colab": {}
      },
      "source": [
        "def descend(initial_a, initial_b,initial_c,x1,x2, y, learning_rate, iterations):\n",
        "    a = initial_a\n",
        "    b = initial_b\n",
        "    c = initial_c\n",
        "    for i in range(iterations):\n",
        "        e = error(a, b,c, x1,x2, y)\n",
        "        if i % 1000 == 0:\n",
        "            print(f\"Error: {e}, a: {a}, b: {b}, c:{c}\")\n",
        "        \n",
        "        a, b,c = step_gradient(a, b,c, x1,x2, y, learning_rate,iterations)\n",
        "\n",
        "    return a, b,c"
      ],
      "execution_count": 0,
      "outputs": []
    },
    {
      "cell_type": "code",
      "metadata": {
        "id": "rjJN1OFJLuVL",
        "colab_type": "code",
        "colab": {}
      },
      "source": [
        "def accuracy(a,b,c,x1,x2,y):\n",
        "    correct = 0\n",
        "    for i in range(len(y)):\n",
        "        f = (a*x1[i] +b*x2[i]+c)\n",
        "        prediction = sigmoid(f)\n",
        "        if prediction > 0.5:\n",
        "            z = 1\n",
        "        else:\n",
        "            z = 0\n",
        "        if y[i] == z:\n",
        "            correct += 1\n",
        "            \n",
        "    print(\"Accuracy: {}\".format(correct / len(y)))"
      ],
      "execution_count": 0,
      "outputs": []
    },
    {
      "cell_type": "markdown",
      "metadata": {
        "id": "VLzzYCD3f8t2",
        "colab_type": "text"
      },
      "source": [
        "**Training the model**"
      ]
    },
    {
      "cell_type": "code",
      "metadata": {
        "id": "cNApws1FLy97",
        "colab_type": "code",
        "outputId": "c9dc7cab-a439-42cf-b374-15970f8a9437",
        "colab": {
          "base_uri": "https://localhost:8080/",
          "height": 167
        }
      },
      "source": [
        "a = 16.903074942656453\n",
        "b = 33.47858873980774\n",
        "c = -33.162145734545625\n",
        "learning_rate = 0.01\n",
        "iterations = 5000\n",
        "\n",
        "final_a, final_b,final_c = descend(a, b,c, x1_train,x2_train, y_train, learning_rate, iterations)"
      ],
      "execution_count": 0,
      "outputs": [
        {
          "output_type": "stream",
          "text": [
            "Error: 0.8294253689675801, a: 16.903074942656453, b: 33.47858873980774, c:-33.162145734545625\n"
          ],
          "name": "stdout"
        },
        {
          "output_type": "stream",
          "text": [
            "/usr/local/lib/python3.6/dist-packages/ipykernel_launcher.py:6: RuntimeWarning: divide by zero encountered in log\n",
            "  \n",
            "/usr/local/lib/python3.6/dist-packages/ipykernel_launcher.py:6: RuntimeWarning: invalid value encountered in double_scalars\n",
            "  \n"
          ],
          "name": "stderr"
        },
        {
          "output_type": "stream",
          "text": [
            "Error: 0.9775168118957532, a: 20.32405463283241, b: 35.98674174618221, c:-26.23926351935423\n",
            "Error: 0.8361032522601641, a: 20.330888923020186, b: 34.99339194890818, c:-31.567985314746398\n",
            "Error: 0.677257594918022, a: 9.723253495017708, b: 32.602694457158634, c:-25.709629809994397\n",
            "Error: 0.8895082875239475, a: 12.056542301887049, b: 33.67583941415625, c:-29.47324721772412\n"
          ],
          "name": "stdout"
        }
      ]
    },
    {
      "cell_type": "code",
      "metadata": {
        "id": "m5K8lVT9Sr2r",
        "colab_type": "code",
        "outputId": "7b113e33-a863-46aa-b057-413dd09de78e",
        "colab": {
          "base_uri": "https://localhost:8080/",
          "height": 33
        }
      },
      "source": [
        "accuracy(final_a, final_b,final_c,x1_train,x2_train,y_train)"
      ],
      "execution_count": 0,
      "outputs": [
        {
          "output_type": "stream",
          "text": [
            "Accuracy: 0.9102114666968223\n"
          ],
          "name": "stdout"
        }
      ]
    },
    {
      "cell_type": "code",
      "metadata": {
        "id": "9BMada7qMDT5",
        "colab_type": "code",
        "outputId": "51edbbf7-e809-4d4d-e2d5-2cb6dd3054e9",
        "colab": {
          "base_uri": "https://localhost:8080/",
          "height": 33
        }
      },
      "source": [
        "accuracy(final_a,final_b,final_c,x1_test,x2_test,y_test)"
      ],
      "execution_count": 0,
      "outputs": [
        {
          "output_type": "stream",
          "text": [
            "Accuracy: 0.9063772048846676\n"
          ],
          "name": "stdout"
        }
      ]
    },
    {
      "cell_type": "markdown",
      "metadata": {
        "id": "abDUpHdfRqTc",
        "colab_type": "text"
      },
      "source": [
        "**Lets apply Random Forest Classifier and check its accuracy**\n",
        "\n"
      ]
    },
    {
      "cell_type": "code",
      "metadata": {
        "id": "etULuIteXY7F",
        "colab_type": "code",
        "outputId": "69e487f4-640c-49c0-e970-d96c78afdfa9",
        "colab": {
          "base_uri": "https://localhost:8080/",
          "height": 234
        }
      },
      "source": [
        "features.values"
      ],
      "execution_count": 0,
      "outputs": [
        {
          "output_type": "execute_result",
          "data": {
            "text/plain": [
              "array([[0.00000000e+00, 1.00000000e+00, 1.00000000e+00, ...,\n",
              "        1.00000000e+00, 1.00000000e+00, 1.00000000e+00],\n",
              "       [9.04731747e-05, 1.00000000e+00, 5.00000000e-01, ...,\n",
              "        1.00000000e+00, 5.00000000e-01, 0.00000000e+00],\n",
              "       [1.80946349e-04, 1.00000000e+00, 5.00000000e-01, ...,\n",
              "        1.00000000e+00, 0.00000000e+00, 1.00000000e+00],\n",
              "       ...,\n",
              "       [9.99819054e-01, 1.00000000e+00, 0.00000000e+00, ...,\n",
              "        1.00000000e+00, 5.00000000e-01, 1.00000000e+00],\n",
              "       [9.99909527e-01, 0.00000000e+00, 0.00000000e+00, ...,\n",
              "        1.00000000e+00, 1.00000000e+00, 1.00000000e+00],\n",
              "       [1.00000000e+00, 0.00000000e+00, 0.00000000e+00, ...,\n",
              "        0.00000000e+00, 1.00000000e+00, 0.00000000e+00]])"
            ]
          },
          "metadata": {
            "tags": []
          },
          "execution_count": 79
        }
      ]
    },
    {
      "cell_type": "code",
      "metadata": {
        "id": "Zsc4DCqgXcqJ",
        "colab_type": "code",
        "outputId": "fb2cc526-104f-44af-8f15-f69319ad51cb",
        "colab": {
          "base_uri": "https://localhost:8080/",
          "height": 134
        }
      },
      "source": [
        "target.values"
      ],
      "execution_count": 0,
      "outputs": [
        {
          "output_type": "execute_result",
          "data": {
            "text/plain": [
              "array([[-1],\n",
              "       [-1],\n",
              "       [-1],\n",
              "       ...,\n",
              "       [-1],\n",
              "       [-1],\n",
              "       [-1]])"
            ]
          },
          "metadata": {
            "tags": []
          },
          "execution_count": 80
        }
      ]
    },
    {
      "cell_type": "code",
      "metadata": {
        "id": "98VRKrxHXneB",
        "colab_type": "code",
        "colab": {}
      },
      "source": [
        " x_train, x_test, y_train, y_test = train_test_split(features, target, test_size = 0.2, random_state = 0)"
      ],
      "execution_count": 0,
      "outputs": []
    },
    {
      "cell_type": "markdown",
      "metadata": {
        "id": "PoqGgTr9gkOh",
        "colab_type": "text"
      },
      "source": [
        "Defining the model"
      ]
    },
    {
      "cell_type": "code",
      "metadata": {
        "id": "XpSNH6UWYC6-",
        "colab_type": "code",
        "outputId": "f3efbb8d-4d52-44f4-ef1d-f8cbb2367c67",
        "colab": {
          "base_uri": "https://localhost:8080/",
          "height": 204
        }
      },
      "source": [
        "Classifier = RandomForestClassifier()\n",
        "Classifier.fit(x_train, y_train)"
      ],
      "execution_count": 0,
      "outputs": [
        {
          "output_type": "stream",
          "text": [
            "/usr/local/lib/python3.6/dist-packages/ipykernel_launcher.py:2: DataConversionWarning: A column-vector y was passed when a 1d array was expected. Please change the shape of y to (n_samples,), for example using ravel().\n",
            "  \n"
          ],
          "name": "stderr"
        },
        {
          "output_type": "execute_result",
          "data": {
            "text/plain": [
              "RandomForestClassifier(bootstrap=True, ccp_alpha=0.0, class_weight=None,\n",
              "                       criterion='gini', max_depth=None, max_features='auto',\n",
              "                       max_leaf_nodes=None, max_samples=None,\n",
              "                       min_impurity_decrease=0.0, min_impurity_split=None,\n",
              "                       min_samples_leaf=1, min_samples_split=2,\n",
              "                       min_weight_fraction_leaf=0.0, n_estimators=100,\n",
              "                       n_jobs=None, oob_score=False, random_state=None,\n",
              "                       verbose=0, warm_start=False)"
            ]
          },
          "metadata": {
            "tags": []
          },
          "execution_count": 82
        }
      ]
    },
    {
      "cell_type": "code",
      "metadata": {
        "id": "M1Sal0CvYW4A",
        "colab_type": "code",
        "colab": {}
      },
      "source": [
        "y_pred = Classifier.predict(x_test)"
      ],
      "execution_count": 0,
      "outputs": []
    },
    {
      "cell_type": "code",
      "metadata": {
        "id": "1DMBfaq6Yi9P",
        "colab_type": "code",
        "outputId": "74810e73-777d-46a5-ad64-08dabbef5f09",
        "colab": {
          "base_uri": "https://localhost:8080/",
          "height": 33
        }
      },
      "source": [
        "from sklearn.metrics import accuracy_score\n",
        "accuracy_score(y_pred,y_test)"
      ],
      "execution_count": 0,
      "outputs": [
        {
          "output_type": "execute_result",
          "data": {
            "text/plain": [
              "0.9710538218000905"
            ]
          },
          "metadata": {
            "tags": []
          },
          "execution_count": 84
        }
      ]
    },
    {
      "cell_type": "markdown",
      "metadata": {
        "id": "XXgdhHp5Z-dR",
        "colab_type": "text"
      },
      "source": [
        "**Now, Lets apply neural** **network**"
      ]
    },
    {
      "cell_type": "code",
      "metadata": {
        "id": "WLBJEPdndPc3",
        "colab_type": "code",
        "colab": {}
      },
      "source": [
        "target = df.values[:,-1]"
      ],
      "execution_count": 0,
      "outputs": []
    },
    {
      "cell_type": "code",
      "metadata": {
        "id": "lllCQm5vdUD5",
        "colab_type": "code",
        "colab": {
          "base_uri": "https://localhost:8080/",
          "height": 33
        },
        "outputId": "0e0a714c-20ae-4e44-8f4e-1648637e4c31"
      },
      "source": [
        "target"
      ],
      "execution_count": 103,
      "outputs": [
        {
          "output_type": "execute_result",
          "data": {
            "text/plain": [
              "array([-1, -1, -1, ..., -1, -1, -1])"
            ]
          },
          "metadata": {
            "tags": []
          },
          "execution_count": 103
        }
      ]
    },
    {
      "cell_type": "markdown",
      "metadata": {
        "id": "m9k9PX88gp2s",
        "colab_type": "text"
      },
      "source": [
        "**One hot encoding for categorical values in the target**"
      ]
    },
    {
      "cell_type": "code",
      "metadata": {
        "id": "GS0AzrKCZ2Ff",
        "colab_type": "code",
        "outputId": "91395685-364c-45f2-dd25-a2b2a8cc6f47",
        "colab": {
          "base_uri": "https://localhost:8080/",
          "height": 134
        }
      },
      "source": [
        "nt = []\n",
        "for i in target:\n",
        "  op = [0,0]\n",
        "  op[i] = 1\n",
        "  nt.append(op)\n",
        "\n",
        "new_target = np.array(nt)\n",
        "print(new_target)"
      ],
      "execution_count": 104,
      "outputs": [
        {
          "output_type": "stream",
          "text": [
            "[[0 1]\n",
            " [0 1]\n",
            " [0 1]\n",
            " ...\n",
            " [0 1]\n",
            " [0 1]\n",
            " [0 1]]\n"
          ],
          "name": "stdout"
        }
      ]
    },
    {
      "cell_type": "code",
      "metadata": {
        "id": "_lEW2wjLcJVL",
        "colab_type": "code",
        "colab": {}
      },
      "source": [
        "f=features.values"
      ],
      "execution_count": 0,
      "outputs": []
    },
    {
      "cell_type": "markdown",
      "metadata": {
        "id": "vDcXWPMchyic",
        "colab_type": "text"
      },
      "source": [
        "Noramlizing the features which is converted to array"
      ]
    },
    {
      "cell_type": "code",
      "metadata": {
        "id": "h6E46GHBd-Pr",
        "colab_type": "code",
        "colab": {}
      },
      "source": [
        "f=(f-f.min())/(f.max()-f.min())"
      ],
      "execution_count": 0,
      "outputs": []
    },
    {
      "cell_type": "code",
      "metadata": {
        "id": "iDJPhMFqeDVm",
        "colab_type": "code",
        "colab": {}
      },
      "source": [
        "target= np.array(new_target)"
      ],
      "execution_count": 0,
      "outputs": []
    },
    {
      "cell_type": "markdown",
      "metadata": {
        "id": "H90nmCCUh9LH",
        "colab_type": "text"
      },
      "source": [
        "Training the model\n",
        "\n",
        "\n",
        "**Activation function**"
      ]
    },
    {
      "cell_type": "code",
      "metadata": {
        "id": "0GyCYObieMpX",
        "colab_type": "code",
        "colab": {}
      },
      "source": [
        "def sigmoid(x):   \n",
        "    return 1/(1+np.exp(-x))\n",
        "\n",
        "def dsigmoid(sig):\n",
        "    return sig * (1-sig)"
      ],
      "execution_count": 0,
      "outputs": []
    },
    {
      "cell_type": "code",
      "metadata": {
        "id": "HX4O4-_ZeSO-",
        "colab_type": "code",
        "colab": {}
      },
      "source": [
        "def feed_forward(input_data,w0,w1,w2):\n",
        "    layer0 = input_data\n",
        "    layer1 = sigmoid(np.dot(layer0, w0))\n",
        "    layer2 = sigmoid(np.dot(layer1, w1))\n",
        "    layer3 = sigmoid(np.dot(layer2, w2))\n",
        "    \n",
        "    return layer0, layer1, layer2, layer3"
      ],
      "execution_count": 0,
      "outputs": []
    },
    {
      "cell_type": "code",
      "metadata": {
        "id": "_O5Jtn1heW8N",
        "colab_type": "code",
        "colab": {}
      },
      "source": [
        "def backpropogate(i, layer0, layer1, layer2, layer3, actual_y, lr,w2, w1, w0):\n",
        "\n",
        "    l3_error = layer3 - actual_y\n",
        "    l3_delta = l3_error * dsigmoid(layer3)\n",
        "    dh3 = np.dot(layer2.T, l3_delta)\n",
        "\n",
        "    l2_error = l3_delta.dot(w2.T)\n",
        "    l2_delta = l2_error * dsigmoid(layer2)\n",
        "    dh2 = np.dot(layer1.T, l2_delta)\n",
        "    \n",
        "    l1_error = l2_delta.dot(w1.T)\n",
        "    l1_delta = l1_error * dsigmoid(layer1)\n",
        "    dh1 = np.dot(layer0.T, l1_delta)\n",
        "    \n",
        "    w2 = w2 - (dh3 * lr)\n",
        "    w1 = w1 - (dh2 * lr)\n",
        "    w0 = w0 - (dh1 * lr)\n",
        "    \n",
        "    if i%10==0 and (i!=0):\n",
        "        loss = np.mean(np.power(l3_error, 2))\n",
        "        loss_curve.append(loss)\n",
        "        iters.append(int(i))\n",
        "        \n",
        "        if i%1000 == 0:\n",
        "            print(\"\\n\", int(i), loss)\n",
        "\n",
        "    return w0, w1, w2\n"
      ],
      "execution_count": 0,
      "outputs": []
    },
    {
      "cell_type": "code",
      "metadata": {
        "id": "qtpMWFjBebRp",
        "colab_type": "code",
        "colab": {}
      },
      "source": [
        "xtrain, xtest, ytrain, ytest = train_test_split(f, new_target, test_size = 0.2)"
      ],
      "execution_count": 0,
      "outputs": []
    },
    {
      "cell_type": "markdown",
      "metadata": {
        "id": "rFO7oKH6iLlb",
        "colab_type": "text"
      },
      "source": [
        "**Assinging weights**"
      ]
    },
    {
      "cell_type": "code",
      "metadata": {
        "id": "y5Ps7u55ehfe",
        "colab_type": "code",
        "colab": {}
      },
      "source": [
        "np.random.seed(1)\n",
        "w0 = np.random.random((31,30))\n",
        "w1 = np.random.random((30,10))\n",
        "w2 = np.random.random((10,2))"
      ],
      "execution_count": 0,
      "outputs": []
    },
    {
      "cell_type": "code",
      "metadata": {
        "id": "9QXeGuSPeln2",
        "colab_type": "code",
        "colab": {}
      },
      "source": [
        "loss_curve = []\n",
        "iters = []"
      ],
      "execution_count": 0,
      "outputs": []
    },
    {
      "cell_type": "code",
      "metadata": {
        "id": "Sjww6NHxeo5u",
        "colab_type": "code",
        "colab": {}
      },
      "source": [
        "lr = 0.01\n",
        "iteration = 5000"
      ],
      "execution_count": 0,
      "outputs": []
    },
    {
      "cell_type": "markdown",
      "metadata": {
        "id": "eJKvejoOiSDo",
        "colab_type": "text"
      },
      "source": [
        "Training the model"
      ]
    },
    {
      "cell_type": "code",
      "metadata": {
        "id": "wlXoSkUFer8V",
        "colab_type": "code",
        "colab": {
          "base_uri": "https://localhost:8080/",
          "height": 150
        },
        "outputId": "9074a12c-c8eb-4e2b-dee8-6a0d5080f010"
      },
      "source": [
        "for i in range(iteration):\n",
        "    layer0, layer1, layer2, layer3 = feed_forward(xtrain,w0,w1,w2)\n",
        "    w0, w1, w2 = backpropogate(i, layer0, layer1, layer2, layer3, ytrain, lr, w2, w1, w0)"
      ],
      "execution_count": 116,
      "outputs": [
        {
          "output_type": "stream",
          "text": [
            "\n",
            " 1000 2.794592280187944e-07\n",
            "\n",
            " 2000 1.4333282169847463e-07\n",
            "\n",
            " 3000 9.713498694312803e-08\n",
            "\n",
            " 4000 7.386326078397452e-08\n"
          ],
          "name": "stdout"
        }
      ]
    },
    {
      "cell_type": "code",
      "metadata": {
        "id": "vkWkro8rewNi",
        "colab_type": "code",
        "colab": {}
      },
      "source": [
        "layer0,layer1,layer2,y_pred = feed_forward(xtrain,w0,w1,w2)"
      ],
      "execution_count": 0,
      "outputs": []
    },
    {
      "cell_type": "code",
      "metadata": {
        "id": "74G_s6jFfLyo",
        "colab_type": "code",
        "colab": {}
      },
      "source": [
        "yp = []\n",
        "yt = []\n",
        "yp = np.argmax(y_pred,axis=1)\n",
        "yt = np.argmax(ytrain,axis=1)"
      ],
      "execution_count": 0,
      "outputs": []
    },
    {
      "cell_type": "code",
      "metadata": {
        "id": "GftvdyKbfSI9",
        "colab_type": "code",
        "colab": {
          "base_uri": "https://localhost:8080/",
          "height": 33
        },
        "outputId": "f8e5abc1-f01e-4ba5-81ac-b455c625498f"
      },
      "source": [
        "from sklearn.metrics import accuracy_score\n",
        "accuracy_score(yt, yp)"
      ],
      "execution_count": 119,
      "outputs": [
        {
          "output_type": "execute_result",
          "data": {
            "text/plain": [
              "1.0"
            ]
          },
          "metadata": {
            "tags": []
          },
          "execution_count": 119
        }
      ]
    },
    {
      "cell_type": "markdown",
      "metadata": {
        "id": "puD4KDY1wmr0",
        "colab_type": "text"
      },
      "source": [
        "**Model Comparision**\n",
        "\n",
        "Logistic Regression Accuracy: 0.9063772048846676(90%)\n",
        "\n",
        "Random Forest Classifier Accuracy: 0.9710538218000905(97%)\n",
        "\n",
        "Neural Networks Accuracy: 1.0(100%)"
      ]
    },
    {
      "cell_type": "markdown",
      "metadata": {
        "id": "LXp1tJwSxmTS",
        "colab_type": "text"
      },
      "source": [
        "# **Conclusion:**\n",
        "\n",
        "From all the models developed , Neural Networks accuracy has highest accuracy that is 100% and followed by Random Forest Classifier and Logistic Regression.\n",
        "So, neural networks would best predict if a website is a phishing website or not."
      ]
    },
    {
      "cell_type": "code",
      "metadata": {
        "id": "s0GbvZDXxYwd",
        "colab_type": "code",
        "colab": {}
      },
      "source": [
        ""
      ],
      "execution_count": 0,
      "outputs": []
    }
  ]
}